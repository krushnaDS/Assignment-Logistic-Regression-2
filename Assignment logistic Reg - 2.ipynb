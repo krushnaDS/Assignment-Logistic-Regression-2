{
 "cells": [
  {
   "cell_type": "markdown",
   "id": "4768c2d4",
   "metadata": {},
   "source": [
    "##### Q1. What is the purpose of grid search cv in machine learning, and how does it work?\n",
    "\n",
    "Gridsearch cv is one of the approach for hyperparameter optimization. It is considered as 'Brute Force' approach. We fit the model using all the possible combination and then choose the combination that produces the best results.\n",
    "- The slowness is disadvantage.\n",
    "- It also takes lot of processing power."
   ]
  },
  {
   "cell_type": "markdown",
   "id": "15dfe8f1",
   "metadata": {},
   "source": [
    "##### Q2. Describe the difference between grid search cv and randomize search cv, and when might you choose one over the other?\n",
    "\n",
    "- GridsearchCv : Gridsearch cv is one of the approach for hyperparameter optimization. It is considered as 'Brute Force' approach. We fit the model using all the possible combination and then choose the combination that produces the best results.\n",
    "\n",
    "    - The slowness is disadvantage.\n",
    "    - It also takes lot of processing power.\n",
    "    \n",
    "- Randomize searchCv : The random search cv methos selects values at random. Every iteration random search attempts a different set of hyperparameters and logs models performance and returns combination with best result.\n",
    "\n",
    "    - It is possible that the outcome could not be the ideal hyperparameter combination is a disadvantage.\n",
    "    \n",
    "\n",
    "\n",
    "- Choosing between Grid Search CV and Randomized Search CV:\n",
    "You can often start with Randomized Search CV for initial exploration and then use Grid Search CV in promising regions for fine-tuning."
   ]
  },
  {
   "cell_type": "markdown",
   "id": "d8f4a2d3",
   "metadata": {},
   "source": [
    "##### Q3. What is data leakage, and why is it a problem in machine learning? Provide an example.\n",
    "\n",
    "Data leakage, in the context of machine learning, occurs when information unintentionally flows from target variable or test data into the training data used to build the model.This creates a misleading understanding of the model's true performance and leads to several problems.\n",
    "\n",
    "- Why data leakage is a problem :\n",
    "\n",
    "1) Overfitting : The model learns patterns specific to the leaked information, resulting in high accuracy on the training data but poor performance on unseen data.\n",
    "\n",
    "2) Biased Prediction\n",
    "\n",
    "3) Wasted resources\n",
    "\n",
    "- Example :\n",
    "\n",
    "\n",
    "Imagine you're building a model to predict customer churn (leaving your service). Data leakage could occur if:\n",
    "\n",
    "Including future churn information in the training data: The model learns churn based on information it won't have access to in real-time, making predictions unrealistic.\n",
    "Accidentally using customer ID instead of a unique identifier: The model memorizes individual customer behavior instead of learning general patterns, leading to poor generalization."
   ]
  },
  {
   "cell_type": "markdown",
   "id": "a1d202e6",
   "metadata": {},
   "source": [
    "##### Q4. How can you prevent data leakage when building a machine learning model?\n",
    "\n",
    "Preventing data leakage is crucial for building robust and reliable machine learning models. here are some strategies you can employ:\n",
    "    \n",
    "   - Data Preparation:\n",
    "        1) Proper Splitting\n",
    "        2) Stratified sampling\n",
    "        3) Temporal awareness\n",
    "        4) Independent preprocessing\n",
    "        \n",
    "   - Model Training:\n",
    "        1) Cross-validation\n",
    "        2) Regularization\n",
    "        3) Target encoding"
   ]
  },
  {
   "cell_type": "markdown",
   "id": "02773b45",
   "metadata": {},
   "source": [
    "##### Q5. What is a confusion matrix, and what does it tell you about the performance of a classification model?\n",
    "\n",
    "A confusion matrix is a matrix that summarizes the performance of a machine learning model on a set of test data. It is a means of displaying the number of accurate and inaccurate instances based on the models predictions. When assessing a classification model's performance a confusion matrix is essential.\n",
    "By effectively interpreting and utilizing the information provided by confusion matrices, you can gain valuable insights into your classification model's performance, identify areas for improvement, and ultimately build more robust and reliable models."
   ]
  },
  {
   "cell_type": "markdown",
   "id": "68c577bc",
   "metadata": {},
   "source": [
    "##### Q6. Explain the difference between precision and recall in the context of a confusion matrix.\n",
    "\n",
    "1. Precision: \n",
    "Precision also known as positive predictive value, measures the accuracy of positive predictions made by the model. It is calculated as the ratio of true positive predictions to the total number of positive predictions made by the model(True positive + False Positive).\n",
    "Higher precision indicates that the model makes fewer false positive predictions, meaning when it predicts an instance as positive, it is likely to be correct.\n",
    "\n",
    "2. Recall:\n",
    "Recall also known as sensitivity or true positive rate, measures the ability of the model to correctly identify all positive instances. It is calculated as the ratio of true positive predictions to the total number of actual positive instances (True positive + False negative).\n",
    "High recall indicates that the model captures a larger proportion of actual positive instances, minimizing false negatives."
   ]
  },
  {
   "cell_type": "markdown",
   "id": "d5115846",
   "metadata": {},
   "source": [
    "##### Q7. How can you interpret a confusion matrix to determine which types of errors your model is making?\n",
    "\n",
    "- If you have large number of false positives, it indicates that your model is incorrectly classifying negative instances as positive, suggesting a problem with precision.\n",
    "\n",
    "- If you have large number of false negatives, it indicates that your model is failing to identify positive instances, suggesting a prblem with recall.\n",
    "\n",
    "- Imbalances in the counts across different cells can also highlight areas where your model might be biased towards one class over the other.\n",
    "\n"
   ]
  },
  {
   "cell_type": "markdown",
   "id": "8bb788b2",
   "metadata": {},
   "source": [
    "##### Q8. What are some common metrics that can be derived from a confusion matrix, and how are they calculated?\n",
    "\n",
    "1. Accuracy:\n",
    "    Accuracy measures the proportion of correctly classified instances out of the total instances. It gives an overall assessment of the model's performance.\n",
    "    \n",
    "    Accuracy = (TP + TN)/(TP + TN + FP + FN)\n",
    "    \n",
    "    \n",
    "2. Precision:\n",
    "    Precision measures the proportion of correctly predicted positive instances out of all instances predicted as positive.\n",
    "    \n",
    "    Precision = TP / (TP + FP)\n",
    "    \n",
    "3. Specificity:\n",
    "    Specificity measures the proportion of correctly predicted negative instances out of all actual negative instances.\n",
    "    \n",
    "    Specificity = TN / (TN + FP)\n",
    "    \n",
    "4. Recall:\n",
    "    Recall measures the proportion of correctly predicted positive instances out of all actual positive instances.\n",
    "    \n",
    "    Recall = TP / (TP + FN)\n",
    "\n"
   ]
  },
  {
   "cell_type": "markdown",
   "id": "589a8731",
   "metadata": {},
   "source": [
    "##### Q9. What is the relationship between the accuracy of a model and the values in its confusion matrix?\n",
    "\n",
    "Accuracy: Accuracy measures the proportion of correctly classified instances out of the total instances. It gives an overall assessment of the model's performance.\n",
    "\n",
    "Accuracy = (TP + TN)/(TP + TN + FP + FN)\n",
    "\n",
    "Accuracy essentially measures the proportion of correctly classified instances out of the total number of instances. Therefore, accuracy depends on the correct classification counts (TP and TN) as well as the total number of instances (sum of TP, TN, FP, and FN) present in the confusion matrix.\n"
   ]
  },
  {
   "cell_type": "markdown",
   "id": "d738533a",
   "metadata": {},
   "source": [
    "##### Q10. How can you use a confusion matrix to identify potential biases or limitations in your machine learning model?\n",
    "\n",
    "A confusion matrix can be a powerful tool for identifying potential biases or limitations in a machine learning model by examining the distributions of predictions and errors across different classes.\n",
    "\n",
    "Here's how you can use a confusion matrix to identify such biases or limitations:\n",
    "\n",
    "1. Class Imbalanace\n",
    "Check if there is a significant class imbalance in the dataset. If one class has a much larger number of instances than the other, the model might become biased towards the majority class.\n",
    "\n",
    "2. Misclassification Patterns:\n",
    "Examine the off-diagonal cells (false positives and false negatives) in the confusion matrix to identify which classes are being frequently misclassified.\n",
    "\n",
    "3. Bias Towards Specific Classes:\n",
    "Analyze if the model consistently performs better or worse on specific classes compared to others.\n",
    "\n",
    "4. Error Analysis:\n",
    "Dive deeper into the characteristics of misclassified instances to understand why the model is making errors."
   ]
  },
  {
   "cell_type": "code",
   "execution_count": null,
   "id": "757c05c0",
   "metadata": {},
   "outputs": [],
   "source": []
  }
 ],
 "metadata": {
  "kernelspec": {
   "display_name": "Python 3 (ipykernel)",
   "language": "python",
   "name": "python3"
  },
  "language_info": {
   "codemirror_mode": {
    "name": "ipython",
    "version": 3
   },
   "file_extension": ".py",
   "mimetype": "text/x-python",
   "name": "python",
   "nbconvert_exporter": "python",
   "pygments_lexer": "ipython3",
   "version": "3.10.9"
  }
 },
 "nbformat": 4,
 "nbformat_minor": 5
}
